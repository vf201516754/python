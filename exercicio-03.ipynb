{
 "cells": [
  {
   "cell_type": "markdown",
   "metadata": {},
   "source": [
    "1 - Faça um Programa que peça dois números e imprima o maior deles. "
   ]
  },
  {
   "cell_type": "code",
   "execution_count": null,
   "metadata": {},
   "outputs": [],
   "source": [
    "x = input(\"Digite um número\")\n",
    "y = input(\"Digite outro número\")\n",
    "print(\"Os números digitados foram: \\n\", x, \"\\n\", y)"
   ]
  },
  {
   "cell_type": "markdown",
   "metadata": {},
   "source": [
    "2 - Faça um Programa que verifique se uma letra digitada é vogal ou consoante. "
   ]
  },
  {
   "cell_type": "code",
   "execution_count": null,
   "metadata": {},
   "outputs": [],
   "source": [
    "letra = input(\"Digite uma letra \")\n",
    "letra = letra.upper()\n",
    "if letra == 'A' or letra == 'E' or letra == 'I' or letra == 'O' or letra == 'U':\n",
    "    print(\"A sua letra é uma vogal\")\n",
    "else:\n",
    "    print(\"A sua letra é uma consoante\")"
   ]
  },
  {
   "cell_type": "markdown",
   "metadata": {},
   "source": [
    "3 - Faça um programa para a leitura de duas notas parciais de um aluno. O programa deve calcular a média alcançada por aluno e apresentar: \n",
    "- A mensagem \"Aprovado\", se a média alcançada for maior ou igual a sete; \n",
    "- A mensagem \"Reprovado\", se a média for menor do que sete; \n",
    "- A mensagem \"Aprovado com Distinção\", se a média for igual a dez. "
   ]
  },
  {
   "cell_type": "code",
   "execution_count": null,
   "metadata": {},
   "outputs": [],
   "source": [
    "nota1 = float(input(\"Digite a primeira nota\"))\n",
    "nota2 = float(input(\"Digite a segunda nota\"))\n",
    "media = (nota1 + nota2) / 2\n",
    "if media == 10:\n",
    "    print(\"Aprovado com Distinção\")\n",
    "elif media >= 7:\n",
    "    print(\"Aprovado\")\n",
    "else:\n",
    "    print(\"Reprovado\")"
   ]
  },
  {
   "cell_type": "markdown",
   "metadata": {},
   "source": [
    "4 -Faça um Programa que leia três números e mostre-os em ordem decrescente. "
   ]
  },
  {
   "cell_type": "code",
   "execution_count": null,
   "metadata": {},
   "outputs": [],
   "source": [
    "n1 = input(\"Digite o primeiro numero \")\n",
    "n2 = input(\"Digite o segundo numero \")\n",
    "n3 = input(\"Digite o terceiro numero \")\n",
    "\n",
    "numeros = [n1,n2,n3]\n",
    "print(sorted(numeros))"
   ]
  },
  {
   "cell_type": "markdown",
   "metadata": {},
   "source": [
    "5 - As Organizações Tabajara resolveram dar um aumento de salário aos seus colaboradores e lhe contrataram para desenvolver o programa que calculará os reajustes. \n",
    "Faça um programa que recebe o salário de um colaborador e o reajuste segundo o seguinte critério, baseado no salário atual: \n",
    "- salários até R 280,00 (incluindo) : aumento de 20%;\n",
    "- salários entre R 280,00 e R 700,00 : aumento de 15%;\n",
    "- salários entre R 700,00 e R 1500,00 : aumento de 10%;\n",
    "- salários de R 1500,00 em diante : aumento de 5% \n",
    "Após o aumento ser realizado, informe na tela: \n",
    "- o salário antes do reajuste; \n",
    "- o percentual de aumento aplicado; \n",
    "- o valor do aumento; \n",
    "- o novo salário, após o aumento."
   ]
  },
  {
   "cell_type": "code",
   "execution_count": null,
   "metadata": {},
   "outputs": [],
   "source": [
    "salario = float(input(\"Digite o salário \"))\n",
    "\n",
    "if salario <= 280.00:\n",
    "    salarioAtual = salario + (salario * 0.20)\n",
    "    aumento = \"Aumento de 20%\"\n",
    "    valor = salarioAtual - salario\n",
    "elif salario <= 700.00:\n",
    "    salarioAtual = salario + (salario * 0.15)\n",
    "    aumento = \"Aumento de 15%\"\n",
    "    valor = salarioAtual - salario\n",
    "elif salario <= 1500.00:\n",
    "    salarioAtual = salario + (salario * 0.10)\n",
    "    aumento = \"Aumento de 10%\"\n",
    "    valor = salarioAtual - salario\n",
    "elif salario > 1500.00:\n",
    "    salarioAtual = salario + (salario * 0.05)\n",
    "    aumento = \"Aumento de 5%\"\n",
    "    valor = salarioAtual - salario\n",
    "\n",
    "print(\"O Salário Anterior era:\", salario)\n",
    "print(aumento)\n",
    "print(\"O Aumento foi no valor de: R$\", valor)\n",
    "print(\"O Salário Atual é:\", salarioAtual)\n"
   ]
  },
  {
   "cell_type": "markdown",
   "metadata": {},
   "source": [
    "6 - Faça um Programa que leia um número e exiba o dia correspondente da semana. (1-Domingo, 2- Segunda, etc.), se digitar outro valor deve aparecer valor inválido."
   ]
  },
  {
   "cell_type": "code",
   "execution_count": null,
   "metadata": {},
   "outputs": [],
   "source": [
    "dia = input(\"Digite um número para o dia da semana \")\n",
    "if dia == '1':\n",
    "    print(\"1 - Domingo\")\n",
    "elif dia == '2':\n",
    "    print(\"2 - Segunda\")\n",
    "elif dia == '3':\n",
    "    print(\"3 - Terça\")\n",
    "elif dia == '4':\n",
    "    print(\"4 - Quarta\")\n",
    "elif dia == '5':\n",
    "    print(\"5 - Quinta\")\n",
    "elif dia == '6':\n",
    "    print(\"6 - Sexta\")\n",
    "elif dia == '7':\n",
    "    print(\"7 - Sábado\")\n",
    "else:\n",
    "    print(\"Valor Inválido\")"
   ]
  },
  {
   "cell_type": "markdown",
   "metadata": {},
   "source": [
    "7 - Faça um programa que lê as duas notas parciais obtidas por um aluno numa disciplina ao longo de um semestre, e calcule a sua média. A atribuição de conceitos obedece à tabela abaixo:   \n",
    "\n",
    "Média de Aproveitamento  Conceito   \n",
    "\n",
    "Entre 9.0 e 10.0        A   \n",
    "Entre 7.5 e 9.0         B   \n",
    "Entre 6.0 e 7.5         C   \n",
    "Entre 4.0 e 6.0         D   \n",
    "Entre 4.0 e zero        E \n",
    "\n",
    "O algoritmo deve mostrar na tela as notas, a média, o conceito correspondente e a mensagem “APROVADO” se o conceito for A, B ou C ou “REPROVADO” se o conceito for D ou E. "
   ]
  },
  {
   "cell_type": "code",
   "execution_count": null,
   "metadata": {},
   "outputs": [],
   "source": [
    "nota1 = float(input(\"Digite a primera nota \"))\n",
    "nota2 = float(input(\"Digite a segunda nota \"))\n",
    "media = (nota1 + nota2) / 2\n",
    "\n",
    "if media > 9:\n",
    "    mensagem = \"APROVADO\"\n",
    "    nota = \"A\"\n",
    "elif media > 7.5:\n",
    "    mensagem = \"APROVADO\"\n",
    "    nota = \"B\"\n",
    "elif media > 6:\n",
    "    mensagem = \"APROVADO\"\n",
    "    nota = \"C\"\n",
    "elif media > 4:\n",
    "    mensagem = \"REPROVADO\"\n",
    "    nota = \"D\"\n",
    "else:\n",
    "    mensagem = \"REPROVADO\"\n",
    "    nota = \"E\"\n",
    "    \n",
    "print(\"Nota 1 = \", nota1, \"\\nNota 2 =\", nota2, \"\\nMédia =\", media, \"\\n\", mensagem, \"\\n\", nota)"
   ]
  },
  {
   "cell_type": "markdown",
   "metadata": {},
   "source": [
    "8 - Faça um Programa que peça os 3 lados de um triângulo. O programa deverá informar se os valores podem ser um triângulo. Indique, caso os lados formem um triângulo, se o mesmo é: equilátero, isósceles ou escaleno. \n",
    "Dicas: \n",
    "- Três lados formam um triângulo quando a soma de quaisquer dois lados for maior que o terceiro; \n",
    "- Triângulo Equilátero: três lados iguais; \n",
    "- Triângulo Isósceles: quaisquer dois lados iguais; \n",
    "- Triângulo Escaleno: três lados diferentes; "
   ]
  },
  {
   "cell_type": "code",
   "execution_count": null,
   "metadata": {},
   "outputs": [],
   "source": [
    "lado1 = float(input(\"Insira o primeiro lado do triângulo \"))\n",
    "lado2 = float(input(\"Insira o segundo lado do triângulo \"))\n",
    "lado3 = float(input(\"Insira o terceiro lado do triângulo \"))\n",
    "\n",
    "if lado1 < lado2 + lado3:\n",
    "    print(\"É um triângulo\")\n",
    "elif lado2 < lado1 + lado3:\n",
    "    print(\"É um triângulo\")\n",
    "elif lado3 < lado1 + lado2:\n",
    "    print(\"É um triângulo\")\n",
    "else:\n",
    "    print(\"Não é um triângulo\")\n",
    "\n",
    "\n",
    "if lado1 == lado2 == lado3:\n",
    "    print(\"Triângulo Equilátero\")\n",
    "elif lado1 == lado2 != lado3:\n",
    "    print(\"Triângulo Isósceles\")\n",
    "elif lado1 != lado2 == lado3:\n",
    "    print(\"Triângulo Isósceles\")\n",
    "elif lado1 == lado3 != lado2:\n",
    "    print(\"Triângulo Isósceles\")\n",
    "else:\n",
    "    print(\"Triângulo Escaleno\")"
   ]
  },
  {
   "cell_type": "markdown",
   "metadata": {
    "collapsed": true
   },
   "source": [
    "9 - Faça um programa que calcule as raízes de uma equação do segundo grau, na forma ax2 + bx + c. \n",
    "O programa deverá pedir os valores de a, b e c e fazer as consistências, informando ao usuário nas seguintes situações: \n",
    "- Se o usuário informar o valor de A igual a zero, a equação não é do segundo grau e o programa não deve fazer pedir os demais valores, sendo encerrado; \n",
    "- Se o delta calculado for negativo, a equação não possui raizes reais. Informe ao usuário e encerre o programa; \n",
    "- Se o delta calculado for igual a zero a equação possui apenas uma raiz real; informe-a ao usuário; \n",
    "- Se o delta for positivo, a equação possui duas raiz reais; informe-as ao usuário; "
   ]
  },
  {
   "cell_type": "code",
   "execution_count": null,
   "metadata": {},
   "outputs": [],
   "source": [
    "a = float(input(\"Digite o valor de a \"))\n",
    "if a == 0:\n",
    "    print(\"Não é uma equação de segundo grau\");\n",
    "elif a != 0:\n",
    "    b = float(input(\"Digite o valor de b \"))\n",
    "    c = float(input(\"Digite o valor de c \"))\n",
    "    delta = (b**2) - 4 * a * c\n",
    "    if delta < 0:\n",
    "        print(\"A equação não possui raizes\")\n",
    "    elif delta == 0:\n",
    "        raiz = (-b)/(2*a)\n",
    "        print(\"A equação possui apenas uma raíz:\", raiz)\n",
    "    else:\n",
    "        raiz1 = (-b + (delta**(1/2))) / (2*a)\n",
    "        raiz2 = (-b - (delta**(1/2))) / (2*a)\n",
    "        print(\"A equação possui duas raizes:\\n\", raiz1, \"\\n\", raiz2)"
   ]
  },
  {
   "cell_type": "markdown",
   "metadata": {},
   "source": [
    "10 - Faça um Programa para um caixa eletrônico. O programa deverá perguntar ao usuário a valor do saque e depois informar quantas notas de cada valor serão fornecidas. As notas disponíveis serão as de 1, 5, 10, 50 e 100 reais. O valor mínimo é de 10 reais e o máximo de 600 reais. O programa não deve se preocupar com a quantidade de notas existentes na máquina. \n",
    "- Exemplo 1: Para sacar a quantia de 256 reais, o programa fornece duas notas de 100, uma nota de 50, uma nota de 5 e uma nota de 1; \n",
    "- Exemplo 2: Para sacar a quantia de 399 reais, o programa fornece três notas de 100, uma nota de 50, quatro notas de 10, uma nota de 5 e quatro notas de 1. "
   ]
  },
  {
   "cell_type": "code",
   "execution_count": null,
   "metadata": {},
   "outputs": [],
   "source": [
    "saque = int(input(\"Digite o valor do saque \"))\n",
    "if saque < 10:\n",
    "    print(\"Valor de saque muito baixo minímo R$10,00\")\n",
    "elif saque > 600:\n",
    "    print(\"Valor de saque muito alto, máximo R$600,00\")\n",
    "else:\n",
    "    \n",
    "    #se o saque for divisivel por 100\n",
    "    if (saque % 100) == 0:\n",
    "        print ((int(saque/100)), \"de R$100,00\")\n",
    "        \n",
    "    #se o saque for menor que 100    \n",
    "    elif saque < 100:\n",
    "            \n",
    "        if saque != 50:\n",
    "            print ((int(saque/50)), \"de R$50,00\")\n",
    "            saque = saque % 50\n",
    "                \n",
    "            if saque != 10:\n",
    "                print ((int(saque/10)), \"de R$10,00\")\n",
    "                saque = saque % 10\n",
    "                    \n",
    "                if saque != 5:\n",
    "                    print ((int(saque/5)), \"de R$5,00\")\n",
    "                    saque = saque % 5\n",
    "                    print ((int(saque/1)), \"de R$1,00\")\n",
    "                        \n",
    "                elif (saque % 5) == 0:\n",
    "                    print ((int(saque/5)), \"de R$5,00\")\n",
    "                \n",
    "            elif (saque % 10) == 0:\n",
    "                print ((int(saque/10)), \"de R$10,00\")\n",
    "                \n",
    "        elif (saque % 50) == 0:\n",
    "            print ((int(saque/50)), \"de R$50,00\")\n",
    "    \n",
    "    #se o saque for maior que 100\n",
    "    elif (saque % 100) != 0:            \n",
    "        if saque > 100:\n",
    "            print ((int(saque/100)), \"de R$100,00\")\n",
    "            saque = saque % 100\n",
    "            \n",
    "            if saque != 50:\n",
    "                print ((int(saque/50)), \"de R$50,00\")\n",
    "                saque = saque % 50\n",
    "                \n",
    "                if saque != 10:\n",
    "                    print ((int(saque/10)), \"de R$10,00\")\n",
    "                    saque = saque % 10\n",
    "                    \n",
    "                    if saque != 5:\n",
    "                        print ((int(saque/5)), \"de R$5,00\")\n",
    "                        saque = saque % 5\n",
    "                        print ((int(saque/1)), \"de R$1,00\")\n",
    "                        \n",
    "                    elif (saque % 5) == 0:\n",
    "                        print ((int(saque/5)), \"de R$5,00\")\n",
    "                \n",
    "                elif (saque % 10) == 0:\n",
    "                    print ((int(saque/10)), \"de R$10,00\")\n",
    "                \n",
    "            elif (saque % 50) == 0:\n",
    "                print ((int(saque/50)), \"de R$50,00\")\n",
    "                \n",
    "        elif (saque % 100) == 0:\n",
    "            print ((int(saque/100)), \"de R$100,00\")"
   ]
  },
  {
   "cell_type": "markdown",
   "metadata": {},
   "source": [
    "11 - Faça um programa que faça 5 perguntas para uma pessoa sobre um crime. As\n",
    "perguntas são:\n",
    "\"Telefonou para a vítima?\"\n",
    "\"Esteve no local do crime?\"\n",
    "\"Mora perto da vítima?\"\n",
    "\"Devia para a vítima?\"\n",
    "\"Já trabalhou com a vítima?\"\n",
    "O programa deve no final emitir uma classificação sobre a participação da pessoa no\n",
    "crime. Se a pessoa responder positivamente a 2 questões ela deve ser classificada\n",
    "como \"Suspeita\", entre 3 e 4 como \"Cúmplice\" e 5 como \"Assassino\". Caso contrário,\n",
    "ele será classificado como \"Inocente\"."
   ]
  },
  {
   "cell_type": "code",
   "execution_count": null,
   "metadata": {},
   "outputs": [],
   "source": [
    "print(\"Digite S ou N para as perguntas sobre o CRIME\")\n",
    "p1 = input(\"Telefonou para a vitima?\")\n",
    "p2 = input(\"Esteve no local do crime?\")\n",
    "p3 = input(\"Mora perto da vitima?\")\n",
    "p4 = input(\"Devia para a vitima?\")\n",
    "p5 = input(\"Ja- trabalhou com a vitima?\")\n",
    "\n",
    "quest=[p1, p2, p3, p4, p5]\n",
    "conts = 0\n",
    "\n",
    "for media in quest:\n",
    "    if media == \"S\" or media == \"s\":\n",
    "        conts = conts+1\n",
    "        \n",
    "if conts == 2:\n",
    "    print(\"Suspeita\")\n",
    "elif conts == 3 or conts == 4:\n",
    "    print(\"Cumplice\")\n",
    "elif conts == 5:\n",
    "    print(\"Assassino\")\n",
    "else:\n",
    "    print(\"Inocente\")"
   ]
  },
  {
   "cell_type": "markdown",
   "metadata": {},
   "source": [
    "12 - Uma fruteira está vendendo frutas com a seguinte tabela de preços:\n",
    " Até 5 Kg Acima de 5 Kg\n",
    "Morango RS 2,50 por Kg RS 2,20 por Kg\n",
    "Maçã RS 1,80 por Kg RS 1,50 por Kg\n",
    "Se o cliente comprar mais de 8 Kg em frutas ou o valor total da compra ultrapassar\n",
    "RS 25,00, receberá ainda um desconto de 10% sobre este total. Escreva um\n",
    "algoritmo para ler a quantidade (em Kg) de morangos e a quantidade (em Kg) de\n",
    "maças adquiridas e escreva o valor a ser pago pelo cliente."
   ]
  },
  {
   "cell_type": "code",
   "execution_count": null,
   "metadata": {},
   "outputs": [],
   "source": [
    "print(\"escreva a qtd de Kg de cada fruta:\")\n",
    "kgmor = int(input(\"morangos: \"))\n",
    "kgmaca = int(input(\"maca: \"))\n",
    "pkgmor = 0\n",
    "pkgmaca = 0\n",
    "\n",
    "if kgmor >= 5:\n",
    "    pkgmor = kgmor* 2.20\n",
    "else:\n",
    "    pkgmor = kgmor* 2.50\n",
    "\n",
    "if kgmaca >= 5:\n",
    "    pkgmaca = kgmaca* 1.80\n",
    "else:\n",
    "    pkgmaca = kgmaca* 1.50\n",
    "    \n",
    "if kgmor > 8 or pkgmor > 25.0:\n",
    "    precofinalmorango = ((pkmor/100)*100)\n",
    "    print (\"preco final morango \" +precofinalmorango)\n",
    "else:\n",
    "    precofinalmorango = pkgmor\n",
    "    print(precofinalmorango)\n",
    "\n",
    "if kgmaca > 8 or pkgmaca > 25.0:\n",
    "    precofinalmaca = ((kgmaca/100)*100)\n",
    "    print (precofinalmaca)\n",
    "else:\n",
    "    precofinalmaca = pkgmaca\n",
    "    print(\"preco final maca \" + str(precofinalmaca))"
   ]
  },
  {
   "cell_type": "markdown",
   "metadata": {},
   "source": [
    "13 - Faça um programa que peça uma nota, entre zero e dez. Mostre uma mensagem\n",
    "caso o valor seja inválido e continue pedindo até que o usuário informe um valor\n",
    "válido."
   ]
  },
  {
   "cell_type": "code",
   "execution_count": null,
   "metadata": {},
   "outputs": [],
   "source": [
    "while True:\n",
    "    var = int(input(\"digita uma nota: \"))\n",
    "    if var > 10 or var < 0:\n",
    "        print(\"digite um valor valido!\")\n",
    "    else:\n",
    "        break"
   ]
  },
  {
   "cell_type": "markdown",
   "metadata": {},
   "source": [
    "13(2) - Faça um programa que leia e valide as seguintes informações:\n",
    "Nome: maior que 3 caracteres;\n",
    "Idade: entre 0 e 150;\n",
    "Salário: maior que zero;\n",
    "Sexo: 'f' ou 'm';\n",
    "Estado Civil: 's', 'c', 'v', 'd';"
   ]
  },
  {
   "cell_type": "code",
   "execution_count": null,
   "metadata": {},
   "outputs": [],
   "source": [
    "verifica = 0\n",
    "while verifica != 1:\n",
    "    nome = input(\"digite um nome: \")\n",
    "    if len(nome) > 3:\n",
    "        print(\"verificado!\")\n",
    "    else:\n",
    "        print(\"invalido!\")\n",
    "        continue\n",
    "        \n",
    "    idade = int(input(\"digite uma idade: \"))\n",
    "    if idade >= 0 and idade <= 150:\n",
    "        print(\"verificado!\")\n",
    "    else:\n",
    "        print(\"invalido!\")\n",
    "        continue\n",
    "      \n",
    "    salario = float(input(\"digite um salario: \"))\n",
    "    if salario >= 0:\n",
    "        print(\"verificado!\")\n",
    "    else: \n",
    "        print(\"invalido!\")\n",
    "        continue\n",
    "    \n",
    "    sexo = input(\"digite um sexo: \")\n",
    "    if sexo == 'f' or sexo == 'm':\n",
    "         print(\"verificado!\")\n",
    "    else: \n",
    "        print(\"invalido!\")\n",
    "        continue\n",
    "    \n",
    "    estado = input(\"digite um estado civil: \")\n",
    "    if estado == 's' or estado == 'c' or estado == 'v' or estado == 'd':\n",
    "         print(\"verificado!\")\n",
    "    else: \n",
    "        print(\"invalido!\")\n",
    "        continue\n",
    "    break"
   ]
  },
  {
   "cell_type": "markdown",
   "metadata": {},
   "source": [
    "14 - Faça um programa que leia 5 números e informe o maior número"
   ]
  },
  {
   "cell_type": "code",
   "execution_count": null,
   "metadata": {},
   "outputs": [],
   "source": [
    "maior = 0\n",
    "count = 0\n",
    "while count < 5:\n",
    "    num = int(input('Digite um numero: '))\n",
    "    if num > maior:\n",
    "        maior = num\n",
    "    count = count + 1\n",
    "else:\n",
    "    print(maior)"
   ]
  },
  {
   "cell_type": "markdown",
   "metadata": {},
   "source": [
    "15 - Faça um programa que leia 5 números e informe a soma e a média dos números."
   ]
  },
  {
   "cell_type": "code",
   "execution_count": null,
   "metadata": {},
   "outputs": [],
   "source": [
    "soma=0\n",
    "media = 0\n",
    "cont = 0 \n",
    "\n",
    "while cont != 5:\n",
    "    nota = int(input(\"digite uma nota: \"))\n",
    "    soma = soma + nota\n",
    "    cont = cont + 1\n",
    "print(\"soma: \" + str(soma))\n",
    "media = soma/5\n",
    "print(\"media: \" + str(media))"
   ]
  },
  {
   "cell_type": "markdown",
   "metadata": {},
   "source": [
    "16 - Faça um programa que imprima na tela apenas os números ímpares entre 1 e 50."
   ]
  },
  {
   "cell_type": "code",
   "execution_count": null,
   "metadata": {},
   "outputs": [],
   "source": [
    "for num in range(1,50):\n",
    "    if num % 2 != 0:\n",
    "        print(num)"
   ]
  },
  {
   "cell_type": "markdown",
   "metadata": {},
   "source": [
    "17 -Desenvolva um gerador de tabuada, capaz de gerar a tabuada de qualquer\n",
    "número inteiro entre 1 a 10. O usuário deve informar de qual numero ele deseja ver\n",
    "a tabuada."
   ]
  },
  {
   "cell_type": "code",
   "execution_count": null,
   "metadata": {},
   "outputs": [],
   "source": [
    "num = int(input('Digita um número de 1 a 10: '))\n",
    "if num not in range(1,11):\n",
    "    print('Numero inválido! Digite um número de 1 a 10!')\n",
    "else:\n",
    "    for val in range(1,11):\n",
    "        result = num*val\n",
    "        print(str(num) + ' X ' + str(val) + ' = ' + str(result))"
   ]
  },
  {
   "cell_type": "markdown",
   "metadata": {},
   "source": [
    "18 - A série de Fibonacci é formada pela seqüência 1,1,2,3,5,8,13,21,34,55,... Faça um\n",
    "programa capaz de gerar a série até o n−ésimo termo."
   ]
  },
  {
   "cell_type": "code",
   "execution_count": null,
   "metadata": {},
   "outputs": [],
   "source": [
    "num = int(input('Digite um número: '))\n",
    "atual = 1\n",
    "anterior = 0\n",
    "count = 1\n",
    "while count != num:\n",
    "    atual = atual+anterior\n",
    "    print(atual)\n",
    "    anterior = atual-anterior\n",
    "    count = count + 1"
   ]
  },
  {
   "cell_type": "markdown",
   "metadata": {},
   "source": [
    "19 - Faça um programa que calcule o fatorial de um número inteiro fornecido pelo\n",
    "usuário. Ex.: 5!=5.4.3.2.1=120"
   ]
  },
  {
   "cell_type": "code",
   "execution_count": null,
   "metadata": {},
   "outputs": [],
   "source": [
    "num = int(input('Digite um número: '))\n",
    "result = 1\n",
    "while num > 0:\n",
    "    result = result*num\n",
    "    num = num-1\n",
    "else:\n",
    "    print(result)"
   ]
  },
  {
   "cell_type": "markdown",
   "metadata": {},
   "source": [
    "20 -O Sr. Manoel Joaquim possui uma grande loja de artigos de RS 1.99, com cerca\n",
    "de 10 caixas. Para agilizar o cálculo de quanto cada cliente deve pagar ele\n",
    "desenvolveu um tabela que contém o número de itens que o cliente comprou e ao\n",
    "lado o valor da conta. Desta forma a atendente do caixa precisa apenas contar\n",
    "quantos itens o cliente está levando e olhar na tabela de preços. Você foi contratado\n",
    "para desenvolver o programa que monta esta tabela de preços, que conterá os\n",
    "preços de 1 até 50 produtos, conforme o exemplo abaixo:\n",
    "Lojas Quase Dois - Tabela de preços\n",
    "1 - RS 1.99\n",
    "2 - RS 3.98\n",
    "...\n",
    "50 - RS 99.50"
   ]
  },
  {
   "cell_type": "code",
   "execution_count": null,
   "metadata": {},
   "outputs": [],
   "source": [
    "print('Lojas Quase Dois - Tabela de preços')\n",
    "for val in range(1,51):\n",
    "    print(str(val) + ' - R$ ' + str(1.99*val))"
   ]
  },
  {
   "cell_type": "markdown",
   "metadata": {},
   "source": [
    "21 - O Sr. Manoel Joaquim acaba de adquirir uma panificadora e pretende implantar\n",
    "a metodologia da tabelinha, que já é um sucesso na sua loja de 1,99. Você foi\n",
    "contratado para desenvolver o programa que monta a tabela de preços de pães, de\n",
    "1 até 50 pães, a partir do preço do pão informado pelo usuário, conforme o exemplo\n",
    "abaixo:\n",
    "Preço do pão: RS 0.18\n",
    "Panificadora Pão de Ontem - Tabela de preços\n",
    "1 - RS 0.18\n",
    "2 - RS 0.36\n",
    "...\n",
    "50 - RS 9.00"
   ]
  },
  {
   "cell_type": "code",
   "execution_count": null,
   "metadata": {},
   "outputs": [],
   "source": [
    "num = float(input('Digite o preço do pão: '))\n",
    "print('Panificadora Pão de Ontem - Tabela de preços')\n",
    "for val in range(1,51):\n",
    "    print(str(val) + ' - R$ ' + str(val*num))"
   ]
  },
  {
   "cell_type": "markdown",
   "metadata": {},
   "source": [
    "22 - O Sr. Manoel Joaquim expandiu seus negócios para além dos negócios de 1,99 e\n",
    "agora possui uma loja de conveniências. Faça um programa que implemente uma\n",
    "caixa registradora rudimentar. O programa deverá receber um número\n",
    "desconhecido de valores referentes aos preços das mercadorias. Um valor zero deve\n",
    "ser informado pelo operador para indicar o final da compra. O programa deve então\n",
    "mostrar o total da compra e perguntar o valor em dinheiro que o cliente forneceu,\n",
    "para então calcular e mostrar o valor do troco. Após esta operação, o programa\n",
    "deverá voltar ao ponto inicial, para registrar a próxima compra. A saída deve ser\n",
    "conforme o exemplo abaixo:\n",
    "Lojas Tabajara\n",
    "Produto 1: RS 2.20\n",
    "Produto 2: RS 5.80\n",
    "Produto 3: RS 0\n",
    "Total: RS 9.00\n",
    "Dinheiro: R$ 20.00\n",
    "Troco: RS 11.00\n",
    "..."
   ]
  },
  {
   "cell_type": "code",
   "execution_count": null,
   "metadata": {},
   "outputs": [],
   "source": [
    "print('Lojas Tabajara')\n",
    "total = 0\n",
    "dinheiro = 0\n",
    "count = 0\n",
    "while True:\n",
    "    count = count + 1 \n",
    "    val = float(input('Produto ' + str(count) + ': R$ '))\n",
    "    if val == 0:\n",
    "        print('Total: R$ ' + str(total))\n",
    "        dinheiro = float(input('Dinheiro: R$ '))\n",
    "        print('Troco: R$: ' + str(dinheiro-total))\n",
    "        count = 0\n",
    "        total = 0\n",
    "        dinheiro = 0\n",
    "        pass\n",
    "    else:\n",
    "        total = total + val\n",
    "        pass"
   ]
  },
  {
   "cell_type": "markdown",
   "metadata": {},
   "source": [
    "23 - Foi feita uma estatística em cinco cidades brasileiras para coletar dados sobre\n",
    "acidentes de trânsito. Foram obtidos os seguintes dados:\n",
    "- Código da cidade;\n",
    "- Número de veículos de passeio (em 1999);\n",
    "- Número de acidentes de trânsito com vítimas (em 1999).\n",
    "Deseja-se saber:\n",
    "- Qual o maior e menor índice de acidentes de transito e a que cidade pertence;\n",
    "- Qual a média de veículos nas cinco cidades juntas;\n",
    "- Qual a média de acidentes de trânsito nas cidades com menos de 2.000 veículos de\n",
    "passeio."
   ]
  },
  {
   "cell_type": "code",
   "execution_count": null,
   "metadata": {},
   "outputs": [],
   "source": [
    "tamanho = 5\n",
    "cod_cidade =  [0] * tamanho\n",
    "n_acidentes = [0] * tamanho\n",
    "n_veiculos =  [0] * tamanho\n",
    "\n",
    "for i in range(tamanho):\n",
    "    cod_cidade[1] = int(input('Codigo da cidade: '))\n",
    "    n_veiculos[i] = int(input('Numero de veiculos de passeio: '))\n",
    "    n_acidentes[i]= int(input('Numero de acidentes: ')) \n",
    "    \n",
    "def SomaAcidentes(listaAcidentes):\n",
    "    totalAcidentes=0\n",
    "    for numeroLista1 in listaAcidentes:\n",
    "        totalAcidentes += numeroLista1\n",
    "    return totalAcidentes\n",
    "    \n",
    "def SomaVeiculos(listaVeiculos):\n",
    "    totalVeiculos=0\n",
    "    for numeroLista2 in listaVeiculos:\n",
    "        totalVeiculos += numeroLista2\n",
    "    return totalVeiculos\n",
    "\n",
    "def MediaVeiculos(listaVeiculos):\n",
    "    return (SomaVeiculos(n_veiculos) / len(listaVeiculos))\n",
    "\n",
    "def MediaAcidentes(listaAcidentes):\n",
    "    return (SomaAcidentes(n_acidentes) / len(listaAcidentes))\n",
    "\n",
    "print ('\\nMaior indice de acidentes: ',max(n_acidentes))\n",
    "print ('Menor indice de acidentes: ',min(n_acidentes))\n",
    "print ('Media de veículos: ', MediaVeiculos(n_veiculos))\n",
    "print ('Média de acidentes de transito nas cidades com menos de 2 Mil veículos: ', MediaAcidentes(n_acidentes))"
   ]
  },
  {
   "cell_type": "markdown",
   "metadata": {},
   "source": [
    "24 - Faça um programa que receba o valor de uma dívida e mostre uma tabela com\n",
    "os seguintes dados: valor da dívida, valor dos juros, quantidade de parcelas e valor\n",
    "da parcela.\n",
    "Os juros e a quantidade de parcelas seguem a tabela abaixo:\n",
    "Quantidade de Parcelas % de Juros sobre o valor inicial da dívida\n",
    "1 0\n",
    "3 10\n",
    "6 15\n",
    "9 20\n",
    "12 25\n",
    "Exemplo de saída do programa:\n",
    "Valor da Dívida Valor dos Juros Quantidade de Parcelas Valor da Parcela\n",
    "RS 1.000,00 0 1 RS 1.000,00\n",
    "RS 1.100,00 100 3 RS 366,00\n",
    "RS 1.150,00 150 6 RS 191,67"
   ]
  },
  {
   "cell_type": "code",
   "execution_count": null,
   "metadata": {},
   "outputs": [],
   "source": [
    "num = float(input('Digite o valor da dívida: '))\n",
    "print('Valor da Dívida     Valor dos Juros      Quantidade de Parcelas      Valor da Parcela')\n",
    "print('R$ ' + str(num) + '           0                    1                           ' + str(num))\n",
    "print('R$ ' + str(num) + '           '+str(num*(15/100))+'                3                           ' + str(num + (num*(10/100))))\n",
    "print('R$ ' + str(num) + '           '+str(num*(10/100))+'                6                           ' + str(num + (num*(15/100))))\n",
    "print('R$ ' + str(num) + '           '+str(num*(20/100))+'                9                           ' + str(num + (num*(20/100))))\n",
    "print('R$ ' + str(num) + '           '+str(num*(25/100))+'                12                          ' + str(num + (num*(25/100))))"
   ]
  },
  {
   "cell_type": "markdown",
   "metadata": {},
   "source": [
    "25 - Faça um programa que mostre os n termos da Série a seguir:\n",
    " S = 1/1 + 2/3 + 3/5 + 4/7 + 5/9 + ... + n/m.\n",
    "Imprima no final a soma da série."
   ]
  },
  {
   "cell_type": "code",
   "execution_count": null,
   "metadata": {},
   "outputs": [],
   "source": [
    "num = int(input('Digite um numero: '))\n",
    "count = 1\n",
    "total = 0\n",
    "f = 1\n",
    "s = 1\n",
    "while count <= num:\n",
    "    total = total + (f/s)\n",
    "    f = f+1\n",
    "    s = s+2\n",
    "    count = count +1\n",
    "else:\n",
    "    print(total)"
   ]
  }
 ],
 "metadata": {
  "kernelspec": {
   "display_name": "Python 3",
   "language": "python",
   "name": "python3"
  },
  "language_info": {
   "codemirror_mode": {
    "name": "ipython",
    "version": 3
   },
   "file_extension": ".py",
   "mimetype": "text/x-python",
   "name": "python",
   "nbconvert_exporter": "python",
   "pygments_lexer": "ipython3",
   "version": "3.6.4"
  }
 },
 "nbformat": 4,
 "nbformat_minor": 2
}
