{
 "cells": [
  {
   "cell_type": "markdown",
   "metadata": {},
   "source": [
    "# Victor Ferreira dos Santos - Lista 09"
   ]
  },
  {
   "cell_type": "markdown",
   "metadata": {},
   "source": [
    "RA 201516754\n",
    "Curso: Ciência da computação \n",
    "D2\n",
    "Nortuno\n"
   ]
  },
  {
   "cell_type": "markdown",
   "metadata": {},
   "source": [
    "1 - Implemente um gerador infinito de números primos.\n"
   ]
  },
  {
   "cell_type": "code",
   "execution_count": 1,
   "metadata": {},
   "outputs": [
    {
     "name": "stdout",
     "output_type": "stream",
     "text": [
      "1\n",
      "2\n",
      "3\n",
      "5\n",
      "7\n",
      "11\n",
      "13\n",
      "17\n",
      "19\n",
      "23\n"
     ]
    }
   ],
   "source": [
    "def gera_primos():\n",
    "    numero = 1\n",
    "    while True:\n",
    "        if primo(numero):\n",
    "            yield numero\n",
    "        numero += 1\n",
    "        \n",
    "        \n",
    "def primo(numero):\n",
    "    if (numero == 1 or numero == 2):\n",
    "        return True;\n",
    "    else:\n",
    "        for i in range(2, numero):\n",
    "            if(numero % i == 0):\n",
    "                return False\n",
    "        return True\n",
    "    \n",
    "g = gera_primos()\n",
    "i = 0\n",
    "while i < 10:\n",
    "    print(g.send(None))\n",
    "    i += 1"
   ]
  },
  {
   "cell_type": "markdown",
   "metadata": {},
   "source": [
    "2 - Implementar um gerador que leia um arquivo e retorne uma lista de tuplas com os dados (o separador de campo do arquivo é virgula), eliminando as linhas vazias. Caso ocorra algum problema, imprima uma mensagem de aviso e encerre o programa.\n",
    "Use o exemplo abaixo como arquivo de entrada: Ex:"
   ]
  },
  {
   "cell_type": "code",
   "execution_count": 16,
   "metadata": {},
   "outputs": [],
   "source": [
    "def gera_tupla(nomeArquivo):\n",
    "    tuplas = []\n",
    "    conteudo = \"\"\n",
    "    arquivo = open(nomeArquivo)\n",
    "    linhaArquivo = arquivo.readline()\n",
    "    while linhaArquivo:\n",
    "        linha = linhaArquivo.split(\",\")\n",
    "        linha[len(linha) - 1] = linha[len(linha) - 1].strip()\n",
    "        for i in range(0, len(linha), 2):\n",
    "            tuplas.append((int(linha[i]), linha[i + 1]))\n",
    "        linhaArquivo = arquivo.readline()\n",
    "    arquivo.close()\n",
    "    yield tuplas;"
   ]
  },
  {
   "cell_type": "code",
   "execution_count": 17,
   "metadata": {},
   "outputs": [
    {
     "name": "stdout",
     "output_type": "stream",
     "text": [
      "[(1, 'vermelho'), (2, 'verde'), (3, 'amarelo'), (4, 'roxo'), (5, 'verde'), (6, 'preto'), (7, 'laranja'), (8, 'amarelo'), (9, 'preto'), (10, 'roxo'), (11, 'roxo'), (12, 'branco')]\n"
     ]
    }
   ],
   "source": [
    "saida = gera_tupla(\"teste.txt\").send(None)\n",
    "print(saida)"
   ]
  },
  {
   "cell_type": "markdown",
   "metadata": {},
   "source": [
    "3 - Implementar dois geradores e rodá-los em paralelo (coroutine) para processar dois\n",
    "arquivos e gerar tuplas. O primeiro é similar ao do exercício 2. O segundo processa\n",
    "outro arquivo, também separado por vírgulas. No final, a lista gerada deve conter\n",
    "tuplas com 3 elementos. Use o exemplo baixo como base:"
   ]
  },
  {
   "cell_type": "markdown",
   "metadata": {},
   "source": [
    "4 - Escreva um generator que crie um fluxo infinito de inteiros a partir de um valor\n",
    "inicial dado com passo 5:"
   ]
  },
  {
   "cell_type": "code",
   "execution_count": 22,
   "metadata": {},
   "outputs": [
    {
     "name": "stdout",
     "output_type": "stream",
     "text": [
      "12\n",
      "17\n",
      "22\n",
      "27\n",
      "32\n",
      "37\n",
      "42\n",
      "47\n",
      "52\n",
      "57\n"
     ]
    }
   ],
   "source": [
    "def gera_inteiros(numero):\n",
    "    ret = numero + 5\n",
    "    yield ret\n",
    "    while True:\n",
    "        ret += 5\n",
    "        yield ret\n",
    "    \n",
    "g = gera_inteiros(7)\n",
    "i = 0\n",
    "while i < 10:\n",
    "    print(g.send(None))\n",
    "    i += 1    "
   ]
  },
  {
   "cell_type": "markdown",
   "metadata": {},
   "source": [
    "5 - Estenda o generator do exercício 4 em uma coroutine que permita que a mudança\n",
    "do passo seja feita de fora (use send()):"
   ]
  },
  {
   "cell_type": "code",
   "execution_count": 24,
   "metadata": {
    "scrolled": true
   },
   "outputs": [
    {
     "name": "stdout",
     "output_type": "stream",
     "text": [
      "12\n",
      "17\n",
      "22\n",
      "24\n",
      "26\n",
      "28\n",
      "30\n"
     ]
    }
   ],
   "source": [
    "def gera_inteiros_flex(numero):\n",
    "    ret = numero + 5\n",
    "    yield ret\n",
    "    while True:\n",
    "        passo = yield\n",
    "        ret += passo\n",
    "        yield ret\n",
    "        \n",
    "    \n",
    "g = gera_inteiros_flex(7)\n",
    "print(g.send(None))\n",
    "\n",
    "\n",
    "i = 0\n",
    "while i < 2:\n",
    "    next(g)\n",
    "    print(g.send(5))\n",
    "    i += 1\n",
    "\n",
    "\n",
    "i = 0\n",
    "while i < 4:\n",
    "    next(g)\n",
    "    print(g.send(2))\n",
    "    i += 1"
   ]
  },
  {
   "cell_type": "code",
   "execution_count": null,
   "metadata": {},
   "outputs": [],
   "source": []
  }
 ],
 "metadata": {
  "kernelspec": {
   "display_name": "Python 3",
   "language": "python",
   "name": "python3"
  },
  "language_info": {
   "codemirror_mode": {
    "name": "ipython",
    "version": 3
   },
   "file_extension": ".py",
   "mimetype": "text/x-python",
   "name": "python",
   "nbconvert_exporter": "python",
   "pygments_lexer": "ipython3",
   "version": "3.6.4"
  }
 },
 "nbformat": 4,
 "nbformat_minor": 2
}
