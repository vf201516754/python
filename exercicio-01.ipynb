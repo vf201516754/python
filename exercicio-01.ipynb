{
 "cells": [
  {
   "cell_type": "markdown",
   "metadata": {},
   "source": [
    "## Números e Operações Aritméticas "
   ]
  },
  {
   "cell_type": "markdown",
   "metadata": {},
   "source": [
    "1 - Faça um Programa que peça o raio de um círculo, calcule e mostre sua área."
   ]
  },
  {
   "cell_type": "code",
   "execution_count": 46,
   "metadata": {},
   "outputs": [
    {
     "name": "stdout",
     "output_type": "stream",
     "text": [
      "Digite o Raio: 5\n",
      "Área:  78.5\n"
     ]
    }
   ],
   "source": [
    "raio = float(input('Digite o Raio: '))\n",
    "\n",
    "area = 3.14 * (raio * raio)\n",
    "\n",
    "print('Área: ', area)"
   ]
  },
  {
   "cell_type": "markdown",
   "metadata": {},
   "source": [
    "2 - Faça um Programa que calcule a área de um quadrado, em seguida mostre o dobro desta área para o usuário. "
   ]
  },
  {
   "cell_type": "code",
   "execution_count": 5,
   "metadata": {},
   "outputs": [
    {
     "name": "stdout",
     "output_type": "stream",
     "text": [
      "Digite o tamanho de L:5\n",
      "Área em dobro: 50.0\n"
     ]
    }
   ],
   "source": [
    "lado = float (input('Digite o tamanho de L:'))\n",
    "\n",
    "area = (lado * lado) * 2\n",
    "\n",
    "print('Área em dobro:', area)"
   ]
  },
  {
   "cell_type": "markdown",
   "metadata": {},
   "source": [
    "3 - Faça um Programa que pergunte quanto você ganha por hora e o número de horas trabalhadas no mês. Calcule e mostre o total do seu salário no referido mês. "
   ]
  },
  {
   "cell_type": "code",
   "execution_count": 2,
   "metadata": {},
   "outputs": [
    {
     "name": "stdout",
     "output_type": "stream",
     "text": [
      "Digite o valor por hora:10\n",
      "Horas Mes:120\n",
      "Salario: R$ 1200.0\n"
     ]
    }
   ],
   "source": [
    "vlrHora = float (input('Digite o valor por hora:'))\n",
    "horasMes = float (input('Horas Mes:'))\n",
    "\n",
    "salario = horasMes * vlrHora\n",
    "\n",
    "print('Salario: R$', salario)"
   ]
  },
  {
   "cell_type": "markdown",
   "metadata": {},
   "source": [
    "4 - Faça um Programa que peça a temperatura em graus Farenheit, transforme e mostre a temperatura em graus Celsius. C = (5 * (F-32) / 9). "
   ]
  },
  {
   "cell_type": "code",
   "execution_count": 13,
   "metadata": {},
   "outputs": [
    {
     "name": "stdout",
     "output_type": "stream",
     "text": [
      "Temperatura em ºF: 70\n",
      "Conversão em ºC:  ºC 21.11111111111111\n"
     ]
    }
   ],
   "source": [
    "F = float (input('Temperatura em ºF: '))\n",
    "\n",
    "conversao = (((F-32) *5) / 9)\n",
    "\n",
    "print('Conversão em ºC:  ºC', conversao)"
   ]
  },
  {
   "cell_type": "markdown",
   "metadata": {},
   "source": [
    "5 - Faça um Programa que peça a temperatura em graus Celsius, transforme e mostre\n",
    "em graus Farenheit."
   ]
  },
  {
   "cell_type": "code",
   "execution_count": 21,
   "metadata": {},
   "outputs": [
    {
     "name": "stdout",
     "output_type": "stream",
     "text": [
      "Temperatura em ºC: 21.1111111111111111111\n",
      "Conversão em ºF:  Fº 70.0\n"
     ]
    }
   ],
   "source": [
    "C = float (input('Temperatura em ºC: '))\n",
    "\n",
    "conversao = (C * 9/5) + 32\n",
    "\n",
    "print('Conversão em ºF:  Fº', conversao)"
   ]
  },
  {
   "cell_type": "markdown",
   "metadata": {},
   "source": [
    "6 - Faça um Programa que peça 2 números inteiros e um número real. Calcule e\n",
    "mostre:\n",
    "- o produto do dobro do primeiro com metade do segundo .\n",
    "- a soma do triplo do primeiro com o terceiro.\n",
    "- o terceiro elevado ao cubo."
   ]
  },
  {
   "cell_type": "code",
   "execution_count": 33,
   "metadata": {},
   "outputs": [
    {
     "name": "stdout",
     "output_type": "stream",
     "text": [
      "Digite o 1º numero inteiro:4\n",
      "Digite o 2º numero inteiro:6\n",
      "Digite um numero real:2.5\n",
      "\n",
      "O produto do dobro do primeiro com metade do segundo : 11.0\n",
      "\n",
      "A soma do triplo do primeiro com o terceiro: 14.5\n",
      "\n",
      "O terceiro elevado ao cubo: 15.625\n"
     ]
    }
   ],
   "source": [
    "int1 = int(input('Digite o 1º numero inteiro:'))\n",
    "int2 = int(input('Digite o 2º numero inteiro:'))\n",
    "real3 = float(input('Digite um numero real:'))\n",
    "\n",
    "q1 = (2*int1)+(int2/2)\n",
    "q2 = ((3*int1)+real3)\n",
    "q3 = (real3**3)\n",
    "\n",
    "print('\\nO produto do dobro do primeiro com metade do segundo :', q1 )\n",
    "print('\\nA soma do triplo do primeiro com o terceiro:', q2)\n",
    "print('\\nO terceiro elevado ao cubo:', q3)\n",
    "\n"
   ]
  },
  {
   "cell_type": "markdown",
   "metadata": {},
   "source": [
    "7 - João Papo-de-Pescador, homem de bem, comprou um microcomputador para\n",
    "controlar o rendimento diário de seu trabalho. Toda vez que ele traz um peso de\n",
    "peixes maior que o estabelecido pelo regulamento de pesca do estado de São Paulo\n",
    "(50 quilos) deve pagar uma multa de R$ 4,00 por quilo excedente. João precisa que\n",
    "você faça um programa que leia a variável peso (peso de peixes) e verifique se há\n",
    "excesso. Se houver, gravar na variável excesso e na variável multa o valor da multa\n",
    "que João deverá pagar. Caso contrário mostrar tais variáveis com o conteúdo ZERO."
   ]
  },
  {
   "cell_type": "code",
   "execution_count": 45,
   "metadata": {},
   "outputs": [
    {
     "name": "stdout",
     "output_type": "stream",
     "text": [
      "Quantidade em KL:75\n",
      "Exedente: Kl 25.0\n",
      "Multa: R$ 100.0\n"
     ]
    }
   ],
   "source": [
    "kl = float (input('Quantidade em KL:'))\n",
    "exd = 0\n",
    "multa = 0\n",
    "\n",
    "if( kl > 50):\n",
    "    exd = (kl - 50)\n",
    "    multa = exd * 4\n",
    "    print('Exedente: Kl',exd)\n",
    "    print('Multa: R$',multa)\n",
    "else:\n",
    "    exd = (print('Exedente: ZERO'))\n",
    "    multa = (print('Multa: ZERO'))"
   ]
  },
  {
   "cell_type": "markdown",
   "metadata": {},
   "source": [
    "8 - Faça um Programa que pergunte quanto você ganha por hora e o número de horas\n",
    "trabalhadas no mês. Calcule e mostre o total do seu salário no referido mês,\n",
    "sabendo-se que são descontados 11% para o Imposto de Renda, 8% para o INSS e 5%\n",
    "para o sindicato, faça um programa que nos dê:\n",
    "- salário bruto.\n",
    "- quanto pagou ao INSS.\n",
    "- quanto pagou ao sindicato.\n",
    "- o salário líquido.\n",
    "- calcule os descontos e o salário líquido, conforme a tabela abaixo:\n",
    "+ Salário Bruto : R$\n",
    "- IR (11%) : R$\n",
    "- INSS (8%) : R$\n",
    "- Sindicato ( 5%) : R$\n",
    "= Salário Liquido : R$\n",
    "Obs.: Salário Bruto - Descontos = Salário Líquido."
   ]
  },
  {
   "cell_type": "code",
   "execution_count": 55,
   "metadata": {},
   "outputs": [
    {
     "name": "stdout",
     "output_type": "stream",
     "text": [
      "Digite o valor por hora:10\n",
      "Horas Mes:120\n",
      "+ Salario Bruto: R$ 1200.0\n",
      "- IR (11%) : R$ 132.0\n",
      "- INSS (8%): R$ 96.0\n",
      "- Sindicato ( 5%): R$ 60.0\n",
      "= Sálario Líquido: R$ 912.0\n"
     ]
    }
   ],
   "source": [
    "vlrHora = float (input('Digite o valor por hora:'))\n",
    "horasMes = float (input('Horas Mes:'))\n",
    "\n",
    "salBruto = horasMes * vlrHora\n",
    "ir = (11/100 * salBruto)\n",
    "inss = (8/100 * salBruto)\n",
    "sind =(5/100 * salBruto)\n",
    "salLiquido = salBruto - ir - inss - sind\n",
    "\n",
    "print('+ Salario Bruto: R$',salBruto)\n",
    "print('- IR (11%) : R$',ir)\n",
    "print('- INSS (8%): R$',inss)\n",
    "print('- Sindicato ( 5%): R$',sind)\n",
    "print('= Sálario Líquido: R$',salLiquido)"
   ]
  },
  {
   "cell_type": "markdown",
   "metadata": {},
   "source": [
    "## Strings"
   ]
  },
  {
   "cell_type": "markdown",
   "metadata": {},
   "source": [
    "9 - Faça um programa que leia 2 strings e informe o conteúdo delas seguido do seu\n",
    "comprimento. Informe também se as duas strings possuem o mesmo comprimento e\n",
    "são iguais ou diferentes no conteúdo."
   ]
  },
  {
   "cell_type": "code",
   "execution_count": 11,
   "metadata": {},
   "outputs": [],
   "source": [
    "def principal():\n",
    "    string1 = input(\"Digite a primeira string - \")\n",
    "    string2 = input(\"Digite a segunda string - \")\n",
    "    \n",
    "    compString1 = len(string1)\n",
    "    compString2 = len(string2)\n",
    "    \n",
    "    \n",
    "    \n",
    "    print(f\"Primeira String: {string1} - Comprimento: {compString1}\")\n",
    "    print(f\"Segunda String: {string2} - Comprimento: {compString2}\")\n",
    "    print(\"Possui o mesmo comprimento? - \" + calculaComprimento(string1, string2))\n",
    "    print(\"O conteudo é igual?  - \" + calculaConteudo(string1, string2))\n",
    "    \n",
    "def calculaComprimento(string1, string2):\n",
    "    \n",
    "    if (len(string1) == len(string2)):\n",
    "        return \"Sim\"\n",
    "    else:\n",
    "        return \"Não\" \n",
    "    \n",
    "def calculaConteudo(string1, string2):\n",
    "    \n",
    "    i = 0\n",
    "    if (len(string1) < len(string2) or len(string1) > len(string2)):\n",
    "        return \"Não\"\n",
    "    else:\n",
    "        while(i < len(string1)):\n",
    "            if string1[i] != string2[i]:\n",
    "                return \"Não\"\n",
    "                break\n",
    "            i += 1\n",
    "        return \"Sim\""
   ]
  },
  {
   "cell_type": "code",
   "execution_count": 14,
   "metadata": {},
   "outputs": [
    {
     "name": "stdout",
     "output_type": "stream",
     "text": [
      "Digite a primeira string - aaaa\n",
      "Digite a segunda string - bbb\n",
      "Primeira String: aaaa - Comprimento: 4\n",
      "Segunda String: bbb - Comprimento: 3\n",
      "Possui o mesmo comprimento? - Não\n",
      "O conteudo é igual?  - Não\n"
     ]
    }
   ],
   "source": [
    "principal()"
   ]
  },
  {
   "cell_type": "markdown",
   "metadata": {},
   "source": [
    "10 - Faça um programa que permita ao usuário digitar o seu nome e em seguida\n",
    "mostre o nome do usuário de trás para frente utilizando somente letras maiúsculas.\n",
    "Dica: lembre−se que ao informar o nome o usuário pode digitar letras maiúsculas ou\n",
    "minúsculas. Observação: não use loops."
   ]
  },
  {
   "cell_type": "code",
   "execution_count": 29,
   "metadata": {},
   "outputs": [],
   "source": [
    "def principal():\n",
    "    \n",
    "    nome = input(\"Digite o seu nome: \")\n",
    "    \n",
    "    nomeInvertido = nome[::-1]\n",
    "    \n",
    "    print(\"Nome: %s\" % nomeInvertido.upper())"
   ]
  },
  {
   "cell_type": "code",
   "execution_count": 30,
   "metadata": {},
   "outputs": [
    {
     "name": "stdout",
     "output_type": "stream",
     "text": [
      "Digite o seu nome: kennedy mota\n",
      "Nome: ATOM YDENNEK\n"
     ]
    }
   ],
   "source": [
    "principal()"
   ]
  },
  {
   "cell_type": "markdown",
   "metadata": {},
   "source": [
    "11 - Faça um programa que solicite a data de nascimento (dd/mm/aaaa) do usuário e\n",
    "imprima a data com o nome do mês por extenso.\n",
    "Data de Nascimento: 29/10/1973\n",
    "Você nasceu em 29 de Outubro de 1973.\n",
    "Obs.: Não use desvio condicional nem loops."
   ]
  },
  {
   "cell_type": "code",
   "execution_count": 43,
   "metadata": {},
   "outputs": [],
   "source": [
    "def principal():\n",
    "    \n",
    "    data = input(\"Digite a data de nascimento (dd/mm/aaaa): \")\n",
    "    \n",
    "    meses = {'01':'Janeiro', '02':'Fevereiro','03':'Março','04':'Abril','05':'Maio','06':'Junho','07':'Julho','08':'Agosto','09':'Setembro','10':'Outubro','11':'Novembro','12':'Dezembro'}\n",
    "    \n",
    "    dia = data[:2]\n",
    "    mes = meses[data[3:5]]\n",
    "    ano = data[6:10]\n",
    "    \n",
    "    print(f'Você nasceu em {dia} de {mes} de {ano}')\n",
    "    "
   ]
  },
  {
   "cell_type": "code",
   "execution_count": 44,
   "metadata": {},
   "outputs": [
    {
     "name": "stdout",
     "output_type": "stream",
     "text": [
      "Digite a data de nascimento (dd/mm/aaaa): 13/09/1995\n",
      "Você nasceu em 13 de Setembro de 1995\n"
     ]
    }
   ],
   "source": [
    "principal()"
   ]
  },
  {
   "cell_type": "markdown",
   "metadata": {},
   "source": [
    "12 - Leet é uma forma de se escrever o alfabeto latino usando outros símbolos em\n",
    "lugar das letras, como números por exemplo. A própria palavra leet admite muitas\n",
    "variações, como l33t ou 1337. O uso do leet reflete uma subcultura relacionada ao\n",
    "mundo dos jogos de computador e internet, sendo muito usada para confundir os\n",
    "iniciantes e afirmar-se como parte de um grupo. Pesquise sobre as principais formas\n",
    "de traduzir as letras. Depois, faça um programa que peça uma texto e transforme-o\n",
    "para a grafia leet speak.\n",
    "\n",
    "Desafio: não use loops nem desvios condicionais."
   ]
  },
  {
   "cell_type": "code",
   "execution_count": 54,
   "metadata": {},
   "outputs": [],
   "source": [
    "def principal():\n",
    "    \n",
    "    print(leet(input(\"Digite o texto\")))\n",
    "\n",
    "def leet(text):\n",
    "    getchar = lambda c: chars[c] if c in chars else c\n",
    "    chars = {\"a\":\"4\",\"e\":\"3\",\"l\":\"1\",\"o\":\"0\",\"s\":\"5\"}\n",
    "    return ''.join(getchar(c) for c in text)\n",
    "\n",
    "    "
   ]
  },
  {
   "cell_type": "code",
   "execution_count": 55,
   "metadata": {},
   "outputs": [
    {
     "name": "stdout",
     "output_type": "stream",
     "text": [
      "Digite o textoteste\n",
      "t35t3\n"
     ]
    }
   ],
   "source": [
    "principal()"
   ]
  },
  {
   "cell_type": "code",
   "execution_count": null,
   "metadata": {},
   "outputs": [],
   "source": []
  }
 ],
 "metadata": {
  "kernelspec": {
   "display_name": "Python 3",
   "language": "python",
   "name": "python3"
  },
  "language_info": {
   "codemirror_mode": {
    "name": "ipython",
    "version": 3
   },
   "file_extension": ".py",
   "mimetype": "text/x-python",
   "name": "python",
   "nbconvert_exporter": "python",
   "pygments_lexer": "ipython3",
   "version": "3.6.4"
  }
 },
 "nbformat": 4,
 "nbformat_minor": 2
}
